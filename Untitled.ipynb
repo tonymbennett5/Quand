{
 "cells": [
  {
   "cell_type": "code",
   "execution_count": null,
   "metadata": {},
   "outputs": [],
   "source": []
  },
  {
   "cell_type": "code",
   "execution_count": 1,
   "metadata": {},
   "outputs": [
    {
     "name": "stdout",
     "output_type": "stream",
     "text": [
      "Collecting nasdaq-data-link\n",
      "  Downloading Nasdaq_Data_Link-1.0.1-py2.py3-none-any.whl (27 kB)\n",
      "Collecting more-itertools\n",
      "  Downloading more_itertools-8.12.0-py3-none-any.whl (54 kB)\n",
      "Requirement already satisfied: pandas>=0.14 in c:\\users\\tonym\\anaconda3\\envs\\learn-env\\lib\\site-packages (from nasdaq-data-link) (1.1.3)\n",
      "Requirement already satisfied: six in c:\\users\\tonym\\anaconda3\\envs\\learn-env\\lib\\site-packages (from nasdaq-data-link) (1.15.0)\n",
      "Collecting inflection>=0.3.1\n",
      "  Downloading inflection-0.5.1-py2.py3-none-any.whl (9.5 kB)\n",
      "Requirement already satisfied: requests>=2.7.0 in c:\\users\\tonym\\anaconda3\\envs\\learn-env\\lib\\site-packages (from nasdaq-data-link) (2.24.0)\n",
      "Requirement already satisfied: python-dateutil in c:\\users\\tonym\\anaconda3\\envs\\learn-env\\lib\\site-packages (from nasdaq-data-link) (2.8.1)\n",
      "Requirement already satisfied: numpy>=1.8 in c:\\users\\tonym\\anaconda3\\envs\\learn-env\\lib\\site-packages (from nasdaq-data-link) (1.21.4)\n",
      "Requirement already satisfied: pytz>=2017.2 in c:\\users\\tonym\\anaconda3\\envs\\learn-env\\lib\\site-packages (from pandas>=0.14->nasdaq-data-link) (2020.1)\n",
      "Requirement already satisfied: chardet<4,>=3.0.2 in c:\\users\\tonym\\anaconda3\\envs\\learn-env\\lib\\site-packages (from requests>=2.7.0->nasdaq-data-link) (3.0.4)\n",
      "Requirement already satisfied: idna<3,>=2.5 in c:\\users\\tonym\\anaconda3\\envs\\learn-env\\lib\\site-packages (from requests>=2.7.0->nasdaq-data-link) (2.10)\n",
      "Requirement already satisfied: urllib3!=1.25.0,!=1.25.1,<1.26,>=1.21.1 in c:\\users\\tonym\\anaconda3\\envs\\learn-env\\lib\\site-packages (from requests>=2.7.0->nasdaq-data-link) (1.25.10)\n",
      "Requirement already satisfied: certifi>=2017.4.17 in c:\\users\\tonym\\anaconda3\\envs\\learn-env\\lib\\site-packages (from requests>=2.7.0->nasdaq-data-link) (2020.6.20)\n",
      "Installing collected packages: more-itertools, inflection, nasdaq-data-link\n",
      "Successfully installed inflection-0.5.1 more-itertools-8.12.0 nasdaq-data-link-1.0.1\n",
      "Note: you may need to restart the kernel to use updated packages.\n"
     ]
    }
   ],
   "source": [
    "pip install nasdaq-data-link"
   ]
  },
  {
   "cell_type": "markdown",
   "metadata": {},
   "source": [
    "Imports "
   ]
  },
  {
   "cell_type": "code",
   "execution_count": 2,
   "metadata": {},
   "outputs": [],
   "source": [
    "import nasdaqdatalink as q "
   ]
  },
  {
   "cell_type": "code",
   "execution_count": 3,
   "metadata": {},
   "outputs": [],
   "source": [
    "import pandas as pd \n"
   ]
  },
  {
   "cell_type": "code",
   "execution_count": 4,
   "metadata": {},
   "outputs": [],
   "source": [
    "# set api key \n",
    "q.ApiConfig.api_key = \"<LV6haxobUdVP66_LY6yz>\""
   ]
  },
  {
   "cell_type": "code",
   "execution_count": null,
   "metadata": {},
   "outputs": [],
   "source": []
  }
 ],
 "metadata": {
  "kernelspec": {
   "display_name": "Python 3",
   "language": "python",
   "name": "python3"
  },
  "language_info": {
   "codemirror_mode": {
    "name": "ipython",
    "version": 3
   },
   "file_extension": ".py",
   "mimetype": "text/x-python",
   "name": "python",
   "nbconvert_exporter": "python",
   "pygments_lexer": "ipython3",
   "version": "3.8.5"
  }
 },
 "nbformat": 4,
 "nbformat_minor": 4
}
